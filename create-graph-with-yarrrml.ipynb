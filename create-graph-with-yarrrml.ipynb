{
 "cells": [
  {
   "cell_type": "code",
   "execution_count": 1,
   "metadata": {},
   "outputs": [
    {
     "name": "stdout",
     "output_type": "stream",
     "text": [
      "zsh:1: /usr/local/bin/pip: bad interpreter: /System/Library/Frameworks/Python.framework/Versions/2.7/Resources/Python.app/Contents/MacOS/Python: no such file or directory\n",
      "Requirement already satisfied: yatter in /Library/Frameworks/Python.framework/Versions/3.11/lib/python3.11/site-packages (1.1.2)\n",
      "Requirement already satisfied: ruamel.yaml>=0.17.21 in /Library/Frameworks/Python.framework/Versions/3.11/lib/python3.11/site-packages (from yatter) (0.18.0)\n",
      "Requirement already satisfied: rdflib>=6.2.0 in /Library/Frameworks/Python.framework/Versions/3.11/lib/python3.11/site-packages (from yatter) (6.3.2)\n",
      "Requirement already satisfied: coloredlogs>=15.0.1 in /Library/Frameworks/Python.framework/Versions/3.11/lib/python3.11/site-packages (from yatter) (15.0.1)\n",
      "Requirement already satisfied: humanfriendly>=9.1 in /Library/Frameworks/Python.framework/Versions/3.11/lib/python3.11/site-packages (from coloredlogs>=15.0.1->yatter) (10.0)\n",
      "Requirement already satisfied: isodate<0.7.0,>=0.6.0 in /Library/Frameworks/Python.framework/Versions/3.11/lib/python3.11/site-packages (from rdflib>=6.2.0->yatter) (0.6.1)\n",
      "Requirement already satisfied: pyparsing<4,>=2.1.0 in /Library/Frameworks/Python.framework/Versions/3.11/lib/python3.11/site-packages (from rdflib>=6.2.0->yatter) (3.1.1)\n",
      "Requirement already satisfied: ruamel.yaml.clib>=0.2.7 in /Library/Frameworks/Python.framework/Versions/3.11/lib/python3.11/site-packages (from ruamel.yaml>=0.17.21->yatter) (0.2.8)\n",
      "Requirement already satisfied: six in /Library/Frameworks/Python.framework/Versions/3.11/lib/python3.11/site-packages (from isodate<0.7.0,>=0.6.0->rdflib>=6.2.0->yatter) (1.16.0)\n",
      "\n",
      "\u001b[1m[\u001b[0m\u001b[34;49mnotice\u001b[0m\u001b[1;39;49m]\u001b[0m\u001b[39;49m A new release of pip is available: \u001b[0m\u001b[31;49m23.3.1\u001b[0m\u001b[39;49m -> \u001b[0m\u001b[32;49m24.0\u001b[0m\n",
      "\u001b[1m[\u001b[0m\u001b[34;49mnotice\u001b[0m\u001b[1;39;49m]\u001b[0m\u001b[39;49m To update, run: \u001b[0m\u001b[32;49mpip3 install --upgrade pip\u001b[0m\n",
      "zsh:1: /usr/local/bin/pip: bad interpreter: /System/Library/Frameworks/Python.framework/Versions/2.7/Resources/Python.app/Contents/MacOS/Python: no such file or directory\n",
      "Requirement already satisfied: morph_kgc in /Library/Frameworks/Python.framework/Versions/3.11/lib/python3.11/site-packages (2.6.4)\n",
      "Requirement already satisfied: duckdb<0.8.0,>=0.7.0 in /Library/Frameworks/Python.framework/Versions/3.11/lib/python3.11/site-packages (from morph_kgc) (0.7.1)\n",
      "Requirement already satisfied: elementpath<5.0.0,>=4.0.0 in /Library/Frameworks/Python.framework/Versions/3.11/lib/python3.11/site-packages (from morph_kgc) (4.1.5)\n",
      "Requirement already satisfied: falcon<4.0.0,>=3.0.0 in /Library/Frameworks/Python.framework/Versions/3.11/lib/python3.11/site-packages (from morph_kgc) (3.1.1)\n",
      "Requirement already satisfied: jsonpath-python<2.0.0,>=1.0.6 in /Library/Frameworks/Python.framework/Versions/3.11/lib/python3.11/site-packages (from morph_kgc) (1.0.6)\n",
      "Requirement already satisfied: pandas<3.0.0,>=2.0.0 in /Library/Frameworks/Python.framework/Versions/3.11/lib/python3.11/site-packages (from morph_kgc) (2.0.0)\n",
      "Requirement already satisfied: pyoxigraph<0.4.0,>=0.3.0 in /Library/Frameworks/Python.framework/Versions/3.11/lib/python3.11/site-packages (from morph_kgc) (0.3.20)\n",
      "Requirement already satisfied: rdflib<8.0.0,>=6.1.1 in /Library/Frameworks/Python.framework/Versions/3.11/lib/python3.11/site-packages (from morph_kgc) (6.3.2)\n",
      "Requirement already satisfied: ruamel-yaml<0.19.0,==0.18.0 in /Library/Frameworks/Python.framework/Versions/3.11/lib/python3.11/site-packages (from morph_kgc) (0.18.0)\n",
      "Requirement already satisfied: sql-metadata<3.0.0,>=2.6.0 in /Library/Frameworks/Python.framework/Versions/3.11/lib/python3.11/site-packages (from morph_kgc) (2.10.0)\n",
      "Requirement already satisfied: sqlalchemy<3.0.0,>=2.0.0 in /Library/Frameworks/Python.framework/Versions/3.11/lib/python3.11/site-packages (from morph_kgc) (2.0.4)\n",
      "Requirement already satisfied: ruamel.yaml.clib>=0.2.7 in /Library/Frameworks/Python.framework/Versions/3.11/lib/python3.11/site-packages (from ruamel-yaml<0.19.0,==0.18.0->morph_kgc) (0.2.8)\n",
      "Requirement already satisfied: python-dateutil>=2.8.2 in /Library/Frameworks/Python.framework/Versions/3.11/lib/python3.11/site-packages (from pandas<3.0.0,>=2.0.0->morph_kgc) (2.8.2)\n",
      "Requirement already satisfied: pytz>=2020.1 in /Library/Frameworks/Python.framework/Versions/3.11/lib/python3.11/site-packages (from pandas<3.0.0,>=2.0.0->morph_kgc) (2023.3.post1)\n",
      "Requirement already satisfied: tzdata>=2022.1 in /Library/Frameworks/Python.framework/Versions/3.11/lib/python3.11/site-packages (from pandas<3.0.0,>=2.0.0->morph_kgc) (2023.3)\n",
      "Requirement already satisfied: numpy>=1.21.0 in /Library/Frameworks/Python.framework/Versions/3.11/lib/python3.11/site-packages (from pandas<3.0.0,>=2.0.0->morph_kgc) (1.24.2)\n",
      "Requirement already satisfied: isodate<0.7.0,>=0.6.0 in /Library/Frameworks/Python.framework/Versions/3.11/lib/python3.11/site-packages (from rdflib<8.0.0,>=6.1.1->morph_kgc) (0.6.1)\n",
      "Requirement already satisfied: pyparsing<4,>=2.1.0 in /Library/Frameworks/Python.framework/Versions/3.11/lib/python3.11/site-packages (from rdflib<8.0.0,>=6.1.1->morph_kgc) (3.1.1)\n",
      "Requirement already satisfied: sqlparse<0.5.0,>=0.4.1 in /Library/Frameworks/Python.framework/Versions/3.11/lib/python3.11/site-packages (from sql-metadata<3.0.0,>=2.6.0->morph_kgc) (0.4.4)\n",
      "Requirement already satisfied: typing-extensions>=4.2.0 in /Library/Frameworks/Python.framework/Versions/3.11/lib/python3.11/site-packages (from sqlalchemy<3.0.0,>=2.0.0->morph_kgc) (4.8.0)\n",
      "Requirement already satisfied: greenlet!=0.4.17 in /Library/Frameworks/Python.framework/Versions/3.11/lib/python3.11/site-packages (from sqlalchemy<3.0.0,>=2.0.0->morph_kgc) (3.0.1)\n",
      "Requirement already satisfied: six in /Library/Frameworks/Python.framework/Versions/3.11/lib/python3.11/site-packages (from isodate<0.7.0,>=0.6.0->rdflib<8.0.0,>=6.1.1->morph_kgc) (1.16.0)\n",
      "\n",
      "\u001b[1m[\u001b[0m\u001b[34;49mnotice\u001b[0m\u001b[1;39;49m]\u001b[0m\u001b[39;49m A new release of pip is available: \u001b[0m\u001b[31;49m23.3.1\u001b[0m\u001b[39;49m -> \u001b[0m\u001b[32;49m24.0\u001b[0m\n",
      "\u001b[1m[\u001b[0m\u001b[34;49mnotice\u001b[0m\u001b[1;39;49m]\u001b[0m\u001b[39;49m To update, run: \u001b[0m\u001b[32;49mpip3 install --upgrade pip\u001b[0m\n"
     ]
    }
   ],
   "source": [
    "!pip install yatter\n",
    "!pip install morph_kgc"
   ]
  },
  {
   "cell_type": "code",
   "execution_count": 2,
   "metadata": {},
   "outputs": [],
   "source": [
    "import yatter\n",
    "from ruamel.yaml import YAML\n",
    "import morph_kgc\n",
    "import subprocess\n",
    "import logging"
   ]
  },
  {
   "cell_type": "code",
   "execution_count": 10,
   "metadata": {},
   "outputs": [],
   "source": [
    "# variables for input and output data\n",
    "DEELNAME_YARRRML_PATH = \"yarrrml-data/deelname_yarrrml.yml\"\n",
    "DEELNAME_OUTPUT_RML_PATH = \"rml-data/deelname_rml.ttl\"\n",
    "DEELNAME_TYPE = \"deelname\"\n",
    "\n",
    "PARTICIPANT_YARRRML_PATH = \"yarrrml-data/participant_yarrrml.yml\"\n",
    "PARTICIPANT_OUTPUT_RML_PATH = \"rml-data/participant_rml.ttl\"\n",
    "PARTICIPANT_TYPE = \"participant\"\n",
    "\n",
    "LOCATIE_YARRRML_PATH = \"yarrrml-data/locatie_yarrrml.yml\"\n",
    "LOCATIE_OUTPUT_RML_PATH = \"rml-data/locatie_rml.ttl\"\n",
    "LOCATIE_TYPE = \"locatie\"\n",
    "\n",
    "ACTIVITEIT_YARRRML_PATH = \"yarrrml-data/activiteit_yarrrml.yml\"\n",
    "ACTIVITEIT_OUTPUT_RML_PATH = \"rml-data/activiteit_rml.ttl\"\n",
    "ACTIVITEIT_TYPE = \"activiteit\""
   ]
  },
  {
   "cell_type": "code",
   "execution_count": 12,
   "metadata": {},
   "outputs": [],
   "source": [
    "def transform_yarrrml_to_rml(input_yarrrml_path: str, output_rml_path: str) -> bool:\n",
    "    \"\"\"\n",
    "    Transform a YARRRML file to an RML file using yatter library.\n",
    "\n",
    "    Args:\n",
    "        yarrrml_path (str): Path to the input YARRRML file.\n",
    "        output_rml_path (str): Path to RML file that will be created.\n",
    "\n",
    "    Returns:\n",
    "        bool: true if conversion was successful\n",
    "    \"\"\"\n",
    "    yaml = YAML(typ=\"safe\", pure=True)\n",
    "    rml_content = yatter.translate(yaml.load(open(input_yarrrml_path)))\n",
    "    if rml_content is None:\n",
    "        logging.warning(f\"Conversion of file to RML failed: {input_yarrrml_path}\")\n",
    "        return False\n",
    "\n",
    "    # Save the RML content to a file\n",
    "    with open(output_rml_path, \"w\") as rml_file:\n",
    "        rml_file.write(rml_content)\n",
    "\n",
    "    # Log that the RML file is created and written to the specified path\n",
    "    logging.info(f\"RML file created and saved at: {output_rml_path}\")\n",
    "    return True"
   ]
  },
  {
   "cell_type": "code",
   "execution_count": 13,
   "metadata": {},
   "outputs": [],
   "source": [
    "# run morph-kgc in the command line for better performance\n",
    "def run_morph_kgc(entity_type):\n",
    "    \"\"\"Run the morph_kgc command using the command line.\"\"\"\n",
    "    command = f\"python3 -m morph_kgc config/{entity_type}_config.ini\"\n",
    "    try:\n",
    "        subprocess.run(command, shell=True)\n",
    "        print(f\"Successfully created KG for entity type {entity_type}\")\n",
    "    except subprocess.CalledProcessError:\n",
    "        print(f\"Error creating KG for entity type {entity_type}\")"
   ]
  },
  {
   "cell_type": "code",
   "execution_count": 17,
   "metadata": {},
   "outputs": [
    {
     "name": "stderr",
     "output_type": "stream",
     "text": [
      "2024-03-06 16:01:45,865 | INFO: Translating YARRRML mapping to [R2]RML\n"
     ]
    },
    {
     "name": "stderr",
     "output_type": "stream",
     "text": [
      "2024-03-06 16:01:45,867 | INFO: RML content is created!\n",
      "2024-03-06 16:01:45,883 | INFO: Mapping has been syntactically validated.\n",
      "2024-03-06 16:01:45,884 | INFO: Translation has finished successfully.\n",
      "2024-03-06 16:01:45,887 | INFO: RML file created and saved at: rml-data/activiteit_rml.ttl\n"
     ]
    },
    {
     "data": {
      "text/plain": [
       "True"
      ]
     },
     "execution_count": 17,
     "metadata": {},
     "output_type": "execute_result"
    }
   ],
   "source": [
    "# convert yarrrml to RML file\n",
    "transform_yarrrml_to_rml(PARTICIPANT_YARRRML_PATH,PARTICIPANT_OUTPUT_RML_PATH)\n",
    "transform_yarrrml_to_rml(DEELNAME_YARRRML_PATH,DEELNAME_OUTPUT_RML_PATH)\n",
    "transform_yarrrml_to_rml(LOCATIE_YARRRML_PATH,LOCATIE_OUTPUT_RML_PATH)\n",
    "transform_yarrrml_to_rml(ACTIVITEIT_YARRRML_PATH,ACTIVITEIT_OUTPUT_RML_PATH)"
   ]
  },
  {
   "cell_type": "code",
   "execution_count": 18,
   "metadata": {},
   "outputs": [
    {
     "name": "stderr",
     "output_type": "stream",
     "text": [
      "INFO | 2024-03-06 16:01:55,019 | 21 mapping rules retrieved.\n",
      "INFO | 2024-03-06 16:01:55,036 | Mapping partition with 21 groups generated.\n",
      "INFO | 2024-03-06 16:01:55,036 | Maximum number of rules within mapping group: 1.\n",
      "INFO | 2024-03-06 16:01:55,036 | Mappings processed in 1.037 seconds.\n",
      "INFO | 2024-03-06 16:01:59,503 | Number of triples generated in total: 21.\n",
      "INFO | 2024-03-06 16:01:59,503 | Materialization finished in 4.465 seconds.\n"
     ]
    },
    {
     "name": "stdout",
     "output_type": "stream",
     "text": [
      "Successfully created KG for entity type activiteit\n"
     ]
    }
   ],
   "source": [
    "# set entity type for which you want to run the morph-kgc engine\n",
    "run_morph_kgc(PARTICIPANT_TYPE)\n",
    "run_morph_kgc(DEELNAME_TYPE)\n",
    "run_morph_kgc(LOCATIE_TYPE)\n",
    "run_morph_kgc(ACTIVITEIT_TYPE)"
   ]
  }
 ],
 "metadata": {
  "kernelspec": {
   "display_name": "Python 3",
   "language": "python",
   "name": "python3"
  },
  "language_info": {
   "codemirror_mode": {
    "name": "ipython",
    "version": 3
   },
   "file_extension": ".py",
   "mimetype": "text/x-python",
   "name": "python",
   "nbconvert_exporter": "python",
   "pygments_lexer": "ipython3",
   "version": "3.11.2"
  }
 },
 "nbformat": 4,
 "nbformat_minor": 2
}
